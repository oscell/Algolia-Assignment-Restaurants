{
 "cells": [
  {
   "cell_type": "markdown",
   "metadata": {},
   "source": [
    "## Initialise and extract data"
   ]
  },
  {
   "cell_type": "code",
   "execution_count": 120,
   "metadata": {},
   "outputs": [],
   "source": [
    "import pandas as pd\n",
    "import json\n",
    "from algoliasearch.search_client import SearchClient\n",
    "\n",
    "rest_info = pd.read_csv('restaurants_info.csv',delimiter=';')\n",
    "\n",
    "\n",
    "rest_list = pd.read_json('restaurants_list.json',orient='records',lines=True)\n"
   ]
  },
  {
   "cell_type": "markdown",
   "metadata": {},
   "source": [
    "Extract the data"
   ]
  },
  {
   "cell_type": "code",
   "execution_count": 121,
   "metadata": {},
   "outputs": [
    {
     "name": "stdout",
     "output_type": "stream",
     "text": [
      "dict_keys(['objectID', 'name', 'address', 'area', 'city', 'country', 'image_url', 'mobile_reserve_url', 'payment_options', 'phone', 'postal_code', 'price', 'reserve_url', 'state', '_geoloc'])\n",
      "5000\n",
      "Index(['objectID', 'food_type', 'stars_count', 'reviews_count', 'neighborhood',\n",
      "       'phone_number', 'price_range', 'dining_style'],\n",
      "      dtype='object')\n"
     ]
    }
   ],
   "source": [
    "rest_json = []\n",
    "\n",
    "for i in rest_list:\n",
    "    rest_json.append(json.loads(rest_list[i].to_json(orient='records',lines=True)))\n",
    "    \n",
    "\n",
    "\n",
    "    "
   ]
  },
  {
   "cell_type": "code",
   "execution_count": 122,
   "metadata": {},
   "outputs": [
    {
     "name": "stdout",
     "output_type": "stream",
     "text": [
      "dict_keys(['objectID', 'food_type', 'stars_count', 'reviews_count', 'neighborhood', 'phone_number', 'price_range', 'dining_style'])\n",
      "5000\n"
     ]
    }
   ],
   "source": [
    "json_objects = []\n",
    "\n",
    "for i, row in rest_info.iterrows():\n",
    "    # Construct the JSON object for each row\n",
    "    json_object = {\n",
    "        'objectID': i,\n",
    "        rest_info.columns.to_list()[0]: row[rest_info.columns.to_list()[0]],\n",
    "        rest_info.columns.to_list()[1]: row[rest_info.columns.to_list()[1]],\n",
    "        rest_info.columns.to_list()[2]: row[rest_info.columns.to_list()[2]],\n",
    "        rest_info.columns.to_list()[3]: row[rest_info.columns.to_list()[3]],\n",
    "        rest_info.columns.to_list()[4]: row[rest_info.columns.to_list()[4]],\n",
    "        rest_info.columns.to_list()[5]: row[rest_info.columns.to_list()[5]],\n",
    "        rest_info.columns.to_list()[6]: row[rest_info.columns.to_list()[6]],\n",
    "        rest_info.columns.to_list()[7]: row[rest_info.columns.to_list()[7]],\n",
    "    }\n",
    "    \n",
    "    json_objects.append(json_object)\n",
    "    "
   ]
  },
  {
   "cell_type": "code",
   "execution_count": 123,
   "metadata": {},
   "outputs": [
    {
     "name": "stdout",
     "output_type": "stream",
     "text": [
      "dict_keys(['objectID', 'name', 'address', 'area', 'city', 'country', 'image_url', 'mobile_reserve_url', 'payment_options', 'phone', 'postal_code', 'price', 'reserve_url', 'state', '_geoloc', 'food_type', 'stars_count', 'reviews_count', 'neighborhood', 'phone_number', 'price_range', 'dining_style'])\n",
      "5000\n",
      "{'objectID': 101422, 'name': 'Town', 'address': '348 Main Street', 'area': 'Denver / Colorado', 'city': 'Carbondale', 'country': 'US', 'image_url': 'https://www.opentable.com/img/restimages/101422.jpg', 'mobile_reserve_url': 'http://mobile.opentable.com/opentable/?restId=101422', 'payment_options': ['AMEX', 'Discover', 'MasterCard', 'Visa'], 'phone': '9709636328', 'postal_code': '81623', 'price': 2, 'reserve_url': 'http://www.opentable.com/single.aspx?rid=101422', 'state': 'CO', '_geoloc': {'lat': 39.400235, 'lng': -107.210373}, 'food_type': 'Contemporary American', 'stars_count': 4.6, 'reviews_count': 180, 'neighborhood': 'Carbondale', 'phone_number': '(970) 963-6328', 'price_range': '$30 and under', 'dining_style': 'Casual Dining'}\n",
      "dict_keys(['objectID', 'name', 'address', 'area', 'city', 'country', 'image_url', 'mobile_reserve_url', 'payment_options', 'phone', 'postal_code', 'price', 'reserve_url', 'state', '_geoloc', 'food_type', 'stars_count', 'reviews_count', 'neighborhood', 'phone_number', 'price_range', 'dining_style'])\n",
      "5000\n",
      "{'objectID': 101422, 'name': 'Town', 'address': '348 Main Street', 'area': 'Denver / Colorado', 'city': 'Carbondale', 'country': 'US', 'image_url': 'https://www.opentable.com/img/restimages/101422.jpg', 'mobile_reserve_url': 'http://mobile.opentable.com/opentable/?restId=101422', 'payment_options': ['AMEX', 'Discover', 'MasterCard', 'Visa'], 'phone': '9709636328', 'postal_code': '81623', 'price': 2, 'reserve_url': 'http://www.opentable.com/single.aspx?rid=101422', 'state': 'CO', '_geoloc': {'lat': 39.400235, 'lng': -107.210373}, 'food_type': 'Contemporary American', 'stars_count': 4.6, 'reviews_count': 180, 'neighborhood': 'Carbondale', 'phone_number': '(970) 963-6328', 'price_range': '$30 and under', 'dining_style': 'Casual Dining'}\n"
     ]
    }
   ],
   "source": [
    "# Convert lists to dictionaries\n",
    "dict1 = {item['objectID']: item for item in rest_json}\n",
    "dict2 = {item['objectID']: item for item in json_objects}\n",
    "\n",
    "# Merge dictionaries\n",
    "merged_dict = {}\n",
    "for objectID in dict1:\n",
    "    merged_dict[objectID] = {**dict1.get(objectID, {}), **dict2.get(objectID, {})}\n",
    "\n",
    "# Convert the merged dictionary back to a list if needed\n",
    "merged_list = list(merged_dict.values())\n",
    "\n",
    "# Exporting to a JSON file\n",
    "with open('combined_data.json', 'w') as file:\n",
    "    json.dump(merged_list, file, indent=4)\n",
    "\n",
    "\n",
    "\n"
   ]
  },
  {
   "cell_type": "code",
   "execution_count": 124,
   "metadata": {},
   "outputs": [],
   "source": [
    "\n",
    "\n",
    "# client = SearchClient.create(\"CUS7UD5Y0M\", \"6a1e157d5903e221753fa656a6c6de7d\")\n",
    "\n",
    "# # Create an index (or connect to it, if an index with the name `ALGOLIA_INDEX_NAME` already exists)\n",
    "# # https://www.algolia.com/doc/api-client/getting-started/instantiate-client-index/#initialize-an-index\n",
    "# index = client.init_index(\"Restaurants\")\n",
    "\n",
    "# res = index.save_objects(merged_list)\n",
    "\n"
   ]
  }
 ],
 "metadata": {
  "kernelspec": {
   "display_name": "Python 3",
   "language": "python",
   "name": "python3"
  },
  "language_info": {
   "codemirror_mode": {
    "name": "ipython",
    "version": 3
   },
   "file_extension": ".py",
   "mimetype": "text/x-python",
   "name": "python",
   "nbconvert_exporter": "python",
   "pygments_lexer": "ipython3",
   "version": "3.11.7"
  }
 },
 "nbformat": 4,
 "nbformat_minor": 2
}
